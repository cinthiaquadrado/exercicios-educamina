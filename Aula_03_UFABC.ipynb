{
  "nbformat": 4,
  "nbformat_minor": 0,
  "metadata": {
    "colab": {
      "provenance": []
    },
    "kernelspec": {
      "name": "python3",
      "display_name": "Python 3"
    },
    "language_info": {
      "name": "python"
    }
  },
  "cells": [
    {
      "cell_type": "code",
      "execution_count": 16,
      "metadata": {
        "colab": {
          "base_uri": "https://localhost:8080/"
        },
        "id": "JPlcpcPyFMsj",
        "outputId": "e68443d7-dc70-4116-bd84-bdc099dc4130"
      },
      "outputs": [
        {
          "output_type": "stream",
          "name": "stdout",
          "text": [
            "11\n"
          ]
        }
      ],
      "source": [
        "#Funções\n",
        "\n",
        "def soma(a, b):\n",
        "  return (a+b)\n",
        "\n",
        "print(soma(2,9))"
      ]
    },
    {
      "cell_type": "code",
      "source": [
        "def pesquise(lista, valor):\n",
        "  index = 0\n",
        "  for item in lista:\n",
        "    if item == valor:\n",
        "      return index\n",
        "    index = index + 1\n",
        "  return None\n",
        "\n",
        "\n",
        "L = [10, 20, 25, 30]\n",
        "print(pesquise(L, 25))\n",
        "print(pesquise(L, 27))\n"
      ],
      "metadata": {
        "colab": {
          "base_uri": "https://localhost:8080/"
        },
        "id": "ZFdLRm8_JYuL",
        "outputId": "df40ae58-8f17-4277-fe70-12e3f38c8b68"
      },
      "execution_count": 23,
      "outputs": [
        {
          "output_type": "stream",
          "name": "stdout",
          "text": [
            "2\n",
            "None\n"
          ]
        }
      ]
    },
    {
      "cell_type": "code",
      "source": [
        "def dados(nome, idade=None):\n",
        "  print('nome: {}'.format(nome))\n",
        "  if(idade is not None):\n",
        "    print('idade: {}'.format(idade))\n",
        "  else:\n",
        "    print('idade: não informada')\n",
        "\n",
        "dados('Cinthia', )"
      ],
      "metadata": {
        "colab": {
          "base_uri": "https://localhost:8080/"
        },
        "id": "Zbg8_j3HOWT3",
        "outputId": "4aef86a9-63dd-4386-bb98-a0ba4ffa208b"
      },
      "execution_count": 21,
      "outputs": [
        {
          "output_type": "stream",
          "name": "stdout",
          "text": [
            "nome: Cinthia\n",
            "idade: não informada\n"
          ]
        }
      ]
    },
    {
      "cell_type": "code",
      "source": [
        "def ehpar(x):\n",
        "  return(x%2==0)\n",
        "print(ehpar(2))\n",
        "print(ehpar(3))"
      ],
      "metadata": {
        "colab": {
          "base_uri": "https://localhost:8080/"
        },
        "id": "wp1zCIlwQNvp",
        "outputId": "f7b32a62-dded-411e-9dbf-0d4871826739"
      },
      "execution_count": 25,
      "outputs": [
        {
          "output_type": "stream",
          "name": "stdout",
          "text": [
            "True\n",
            "False\n"
          ]
        }
      ]
    },
    {
      "cell_type": "code",
      "source": [
        "def hello(nome):\n",
        "  print('Olá,', nome)\n",
        "\n",
        "meu_nome = input('Digite o seu nome: ')\n",
        "hello(meu_nome)"
      ],
      "metadata": {
        "colab": {
          "base_uri": "https://localhost:8080/"
        },
        "id": "uWnh3ewzQkkZ",
        "outputId": "b8357ac9-7343-4528-8211-500fbced2bc2"
      },
      "execution_count": 29,
      "outputs": [
        {
          "output_type": "stream",
          "name": "stdout",
          "text": [
            "Digite o seu nome: Cinthia\n",
            "Olá, Cinthia\n"
          ]
        }
      ]
    },
    {
      "cell_type": "code",
      "source": [
        "def maior (x, y):\n",
        "  if x > y:\n",
        "    print(x)\n",
        "  else:\n",
        "    print(y)\n",
        "\n",
        "maior(4, 7)"
      ],
      "metadata": {
        "colab": {
          "base_uri": "https://localhost:8080/"
        },
        "id": "auTuzcHMQcsg",
        "outputId": "ad6a6114-ea89-4663-ca29-bf33e9ac4907"
      },
      "execution_count": 26,
      "outputs": [
        {
          "output_type": "stream",
          "name": "stdout",
          "text": [
            "7\n"
          ]
        }
      ]
    },
    {
      "cell_type": "code",
      "source": [
        "#Atividade\n",
        "\n",
        "def soma(lista):\n",
        "  total = 0\n",
        "  for nota in lista:\n",
        "    total+=nota\n",
        "  return total\n",
        "\n",
        "def media(lista):\n",
        "  return(soma(lista)/len(lista))\n",
        "\n",
        "lista = [0, 4, 10]\n",
        "print(media(lista))\n",
        "print(soma(lista))"
      ],
      "metadata": {
        "colab": {
          "base_uri": "https://localhost:8080/"
        },
        "id": "tgDzEhJLJ1u_",
        "outputId": "1977172a-6dfe-4499-c8c2-835d0d2cba9a"
      },
      "execution_count": 19,
      "outputs": [
        {
          "output_type": "stream",
          "name": "stdout",
          "text": [
            "4.666666666666667\n",
            "14\n"
          ]
        }
      ]
    },
    {
      "cell_type": "code",
      "source": [
        "L = [5,7,8]\n",
        "sum(L)"
      ],
      "metadata": {
        "colab": {
          "base_uri": "https://localhost:8080/"
        },
        "id": "_1AODl1sMus9",
        "outputId": "d8d465b3-cf28-48eb-9a56-7efe2f77250b"
      },
      "execution_count": 30,
      "outputs": [
        {
          "output_type": "execute_result",
          "data": {
            "text/plain": [
              "20"
            ]
          },
          "metadata": {},
          "execution_count": 30
        }
      ]
    },
    {
      "cell_type": "code",
      "source": [
        "max(L)"
      ],
      "metadata": {
        "colab": {
          "base_uri": "https://localhost:8080/"
        },
        "id": "eZEK7fj4TYvw",
        "outputId": "d2c8b383-b12f-47d2-ecb6-4cc5c9c27d6c"
      },
      "execution_count": 31,
      "outputs": [
        {
          "output_type": "execute_result",
          "data": {
            "text/plain": [
              "8"
            ]
          },
          "metadata": {},
          "execution_count": 31
        }
      ]
    },
    {
      "cell_type": "code",
      "source": [
        "min(L)"
      ],
      "metadata": {
        "colab": {
          "base_uri": "https://localhost:8080/"
        },
        "id": "kYNjaBmeTa5t",
        "outputId": "e0883900-590e-4573-8ebc-179f532f6faf"
      },
      "execution_count": 32,
      "outputs": [
        {
          "output_type": "execute_result",
          "data": {
            "text/plain": [
              "5"
            ]
          },
          "metadata": {},
          "execution_count": 32
        }
      ]
    },
    {
      "cell_type": "code",
      "source": [
        "#Variáveis\n",
        "\n",
        "def soma(x,y):\n",
        "  total = x+y\n",
        "  print('Total soma =', total)\n",
        "\n",
        "total = 10\n",
        "soma(3,5)\n",
        "print('Total principal =', total)"
      ],
      "metadata": {
        "colab": {
          "base_uri": "https://localhost:8080/"
        },
        "id": "nQuK3yTBTcgd",
        "outputId": "592a6978-3a6a-41e0-8344-a94810726932"
      },
      "execution_count": 35,
      "outputs": [
        {
          "output_type": "stream",
          "name": "stdout",
          "text": [
            "Total soma = 8\n",
            "Total principal = 10\n"
          ]
        }
      ]
    },
    {
      "cell_type": "code",
      "source": [
        "def soma(x,y):\n",
        "  global total\n",
        "  total = x+y\n",
        "  print('Total soma =', total)\n",
        "\n",
        "global total\n",
        "total = 10\n",
        "soma(3,5)\n",
        "print('Total principal =', total)"
      ],
      "metadata": {
        "colab": {
          "base_uri": "https://localhost:8080/"
        },
        "id": "xpvubxlwT58D",
        "outputId": "4be24e7a-7b23-40fc-bf15-086517f404c3"
      },
      "execution_count": 38,
      "outputs": [
        {
          "output_type": "stream",
          "name": "stdout",
          "text": [
            "Total soma = 8\n",
            "Total principal = 8\n"
          ]
        }
      ]
    },
    {
      "cell_type": "code",
      "source": [
        "def converter(n):\n",
        "  if n >=9:\n",
        "    return 'A'\n",
        "  elif n < 9 and n <= 7.5:\n",
        "    return 'B'\n",
        "  elif n < 7.5 and n <= 6.5:\n",
        "    return 'D'\n",
        "  elif n < 6 and n <= 5:\n",
        "    return 'D'\n",
        "  elif n < 5:\n",
        "    return 'F'\n",
        "\n",
        "converter(6.5)\n"
      ],
      "metadata": {
        "colab": {
          "base_uri": "https://localhost:8080/",
          "height": 35
        },
        "id": "N_rH-b7QULt7",
        "outputId": "896edf59-678b-43fa-c483-417e370b27e8"
      },
      "execution_count": 42,
      "outputs": [
        {
          "output_type": "execute_result",
          "data": {
            "text/plain": [
              "'B'"
            ],
            "application/vnd.google.colaboratory.intrinsic+json": {
              "type": "string"
            }
          },
          "metadata": {},
          "execution_count": 42
        }
      ]
    },
    {
      "cell_type": "code",
      "source": [
        "def converter(n):\n",
        "  if n >=9:\n",
        "    print('A')\n",
        "  elif n < 9 and n <= 7.5:\n",
        "    print('B')\n",
        "  elif n < 7.5 and n <= 6.5:\n",
        "    print('C')\n",
        "  elif n < 6 and n <= 5:\n",
        "    print('D')\n",
        "  elif n < 5:\n",
        "    print('F')\n",
        "\n",
        "converter(6.5)\n"
      ],
      "metadata": {
        "colab": {
          "base_uri": "https://localhost:8080/"
        },
        "id": "uZHMPj03X8Wg",
        "outputId": "675784eb-4515-4e49-bbeb-4d420121105b"
      },
      "execution_count": 40,
      "outputs": [
        {
          "output_type": "stream",
          "name": "stdout",
          "text": [
            "B\n"
          ]
        }
      ]
    },
    {
      "cell_type": "code",
      "source": [
        "def calcular_pagamento(qtd_horas, valor_hora):\n",
        "  horas = float(qtd_horas)\n",
        "  taxa = float(valor_hora)\n",
        "  if horas <= 40:\n",
        "    salario = horas * taxa\n",
        "  else:\n",
        "    h_excd = horas - 40\n",
        "    salario = 40 * taxa + (h_excd*(1.5*taxa))\n",
        "  return salario\n",
        "\n",
        "str_horas = input('Digite as horas: ')\n",
        "str_taxa = input('Digite a taxa: ')\n",
        "total_salario = calcular_pagamento(str_horas, str_taxa)\n",
        "print('O valor dos rendimentos é de R$', total_salario)"
      ],
      "metadata": {
        "colab": {
          "base_uri": "https://localhost:8080/"
        },
        "id": "Nc6NxCpEmal0",
        "outputId": "2a90b778-0d5b-4c51-e8fb-54857947bff4"
      },
      "execution_count": 56,
      "outputs": [
        {
          "output_type": "stream",
          "name": "stdout",
          "text": [
            "Digite as horas: 40\n",
            "Digite a taxa: 20\n",
            "O valor dos rendimentos é de R$ 800.0\n"
          ]
        }
      ]
    },
    {
      "cell_type": "code",
      "source": [
        "def calculo_imc(peso, altura):\n",
        "  print(peso/altura**2)\n",
        "\n",
        "calculo_imc(75, 1.68)"
      ],
      "metadata": {
        "colab": {
          "base_uri": "https://localhost:8080/"
        },
        "id": "GgXdJ8xtnhI0",
        "outputId": "75f6cb1f-a477-494b-d6cb-ae4baeebd3db"
      },
      "execution_count": 57,
      "outputs": [
        {
          "output_type": "stream",
          "name": "stdout",
          "text": [
            "26.573129251700685\n"
          ]
        }
      ]
    },
    {
      "cell_type": "code",
      "source": [
        "import math"
      ],
      "metadata": {
        "id": "OATF8LClZdYi"
      },
      "execution_count": 46,
      "outputs": []
    },
    {
      "cell_type": "code",
      "source": [
        "raio = 6\n",
        "altura = 1.5\n",
        "area = raio * raio * math.pi\n",
        "\n",
        "volume = area * altura\n",
        "\n",
        "print('%.2f'%volume)"
      ],
      "metadata": {
        "colab": {
          "base_uri": "https://localhost:8080/"
        },
        "id": "oTWxJbEIiWZJ",
        "outputId": "6cbad092-d96e-4ccb-cd75-1842f5d8269f"
      },
      "execution_count": 52,
      "outputs": [
        {
          "output_type": "stream",
          "name": "stdout",
          "text": [
            "169.65\n"
          ]
        }
      ]
    },
    {
      "cell_type": "code",
      "source": [
        "from google.colab import auth\n",
        "auth.authenticate_user()\n",
        "\n",
        "import gspread\n",
        "from google.auth import default\n",
        "creds, _ = default()\n",
        "\n",
        "gc = gspread.authorize(creds)\n"
      ],
      "metadata": {
        "id": "9B-QVFDWij_P"
      },
      "execution_count": 53,
      "outputs": []
    },
    {
      "cell_type": "code",
      "source": [
        "!pip install --upgrade gspread"
      ],
      "metadata": {
        "colab": {
          "base_uri": "https://localhost:8080/"
        },
        "id": "OqGc90WHkfMq",
        "outputId": "7305581e-5dc2-4f46-a6f3-3a5600d608d8"
      },
      "execution_count": 58,
      "outputs": [
        {
          "output_type": "stream",
          "name": "stdout",
          "text": [
            "Requirement already satisfied: gspread in /usr/local/lib/python3.10/dist-packages (3.4.2)\n",
            "Collecting gspread\n",
            "  Downloading gspread-5.11.3-py3-none-any.whl (46 kB)\n",
            "\u001b[2K     \u001b[90m━━━━━━━━━━━━━━━━━━━━━━━━━━━━━━━━━━━━━━━━\u001b[0m \u001b[32m46.7/46.7 kB\u001b[0m \u001b[31m2.2 MB/s\u001b[0m eta \u001b[36m0:00:00\u001b[0m\n",
            "\u001b[?25hRequirement already satisfied: google-auth>=1.12.0 in /usr/local/lib/python3.10/dist-packages (from gspread) (2.17.3)\n",
            "Requirement already satisfied: google-auth-oauthlib>=0.4.1 in /usr/local/lib/python3.10/dist-packages (from gspread) (1.0.0)\n",
            "Requirement already satisfied: cachetools<6.0,>=2.0.0 in /usr/local/lib/python3.10/dist-packages (from google-auth>=1.12.0->gspread) (5.3.1)\n",
            "Requirement already satisfied: pyasn1-modules>=0.2.1 in /usr/local/lib/python3.10/dist-packages (from google-auth>=1.12.0->gspread) (0.3.0)\n",
            "Requirement already satisfied: six>=1.9.0 in /usr/local/lib/python3.10/dist-packages (from google-auth>=1.12.0->gspread) (1.16.0)\n",
            "Requirement already satisfied: rsa<5,>=3.1.4 in /usr/local/lib/python3.10/dist-packages (from google-auth>=1.12.0->gspread) (4.9)\n",
            "Requirement already satisfied: requests-oauthlib>=0.7.0 in /usr/local/lib/python3.10/dist-packages (from google-auth-oauthlib>=0.4.1->gspread) (1.3.1)\n",
            "Requirement already satisfied: pyasn1<0.6.0,>=0.4.6 in /usr/local/lib/python3.10/dist-packages (from pyasn1-modules>=0.2.1->google-auth>=1.12.0->gspread) (0.5.0)\n",
            "Requirement already satisfied: oauthlib>=3.0.0 in /usr/local/lib/python3.10/dist-packages (from requests-oauthlib>=0.7.0->google-auth-oauthlib>=0.4.1->gspread) (3.2.2)\n",
            "Requirement already satisfied: requests>=2.0.0 in /usr/local/lib/python3.10/dist-packages (from requests-oauthlib>=0.7.0->google-auth-oauthlib>=0.4.1->gspread) (2.31.0)\n",
            "Requirement already satisfied: charset-normalizer<4,>=2 in /usr/local/lib/python3.10/dist-packages (from requests>=2.0.0->requests-oauthlib>=0.7.0->google-auth-oauthlib>=0.4.1->gspread) (3.3.0)\n",
            "Requirement already satisfied: idna<4,>=2.5 in /usr/local/lib/python3.10/dist-packages (from requests>=2.0.0->requests-oauthlib>=0.7.0->google-auth-oauthlib>=0.4.1->gspread) (3.4)\n",
            "Requirement already satisfied: urllib3<3,>=1.21.1 in /usr/local/lib/python3.10/dist-packages (from requests>=2.0.0->requests-oauthlib>=0.7.0->google-auth-oauthlib>=0.4.1->gspread) (2.0.6)\n",
            "Requirement already satisfied: certifi>=2017.4.17 in /usr/local/lib/python3.10/dist-packages (from requests>=2.0.0->requests-oauthlib>=0.7.0->google-auth-oauthlib>=0.4.1->gspread) (2023.7.22)\n",
            "Installing collected packages: gspread\n",
            "  Attempting uninstall: gspread\n",
            "    Found existing installation: gspread 3.4.2\n",
            "    Uninstalling gspread-3.4.2:\n",
            "      Successfully uninstalled gspread-3.4.2\n",
            "Successfully installed gspread-5.11.3\n"
          ]
        }
      ]
    },
    {
      "cell_type": "markdown",
      "source": [
        "## Desafio"
      ],
      "metadata": {
        "id": "YaUFZGKxpUmU"
      }
    },
    {
      "cell_type": "markdown",
      "source": [
        "Utilizando o seu código das partes anteriores e os\n",
        "comandos da biblioteca crie um código para cada um dos\n",
        "itens:\n",
        "1. Atualizar a planilha com os produtos cadastrados\n",
        "2. Carregar as informações do estoque da planilha\n",
        "3. Registrar os produtos vendidos e atualizar o estoque\n",
        "na planilha após a venda (Dica: crie uma nova página\n",
        "para armazenar essas informações)"
      ],
      "metadata": {
        "id": "CVnBL1WupWIc"
      }
    },
    {
      "cell_type": "code",
      "source": [
        "gc = gspread.authorize(creds)\n",
        "nova_planilha = gc.create('Estoque')"
      ],
      "metadata": {
        "id": "OE7IcJJ8pD4L"
      },
      "execution_count": 59,
      "outputs": []
    },
    {
      "cell_type": "code",
      "source": [
        "x = 20\n",
        "y = 20\n",
        "\n",
        "nova_pagina = nova_planilha.add_worksheet(title='Estoque atualizado', rows = x, cols = y)"
      ],
      "metadata": {
        "id": "JNsID5QC_2aD"
      },
      "execution_count": 61,
      "outputs": []
    },
    {
      "cell_type": "code",
      "source": [
        "estoque = []\n",
        "\n",
        "while True:\n",
        "\n",
        "  Nome_produto = input('Digite o nome do produto: ')\n",
        "  if Nome_produto == '':\n",
        "    break\n",
        "  Tamanho = input('Digite o tamanho do produto: ')\n",
        "  Cor = input('Digite a cor do produto: ')\n",
        "  Preço = float(input('Digite o preço do produto: '))\n",
        "  Quantidade = int(input('Digite a quantidade disponível do produto: '))\n",
        "\n",
        "  info_produto = {'Nome_produto': Nome_produto,\n",
        "               'Tamanho': Tamanho,\n",
        "               'Cor': Cor,\n",
        "               'Preço': Preço,\n",
        "               'Quantidade': Quantidade}\n",
        "\n",
        "  #Outra forma de info_produto\n",
        "  # info_produto[\"Nome\"] = Nome_produto\n",
        "  # info_produto[\"Tamanho\"] = Tamanho\n",
        "  # info_produto[\"Cor\"] = Cor\n",
        "  # info_produto[\"Preço] = Preço\n",
        "  # info_produto[\"Quantidade\"] = Quantidade\n",
        "  estoque.append(info_produto)"
      ],
      "metadata": {
        "colab": {
          "base_uri": "https://localhost:8080/"
        },
        "id": "EH8uuP7AAJH_",
        "outputId": "07431a34-f198-452d-ce69-ca2c93a9fc87"
      },
      "execution_count": 62,
      "outputs": [
        {
          "name": "stdout",
          "output_type": "stream",
          "text": [
            "Digite o nome do produto: camiseta\n",
            "Digite o tamanho do produto: m\n",
            "Digite a cor do produto: preto\n",
            "Digite o preço do produto: 10\n",
            "Digite a quantidade disponível do produto: 2\n",
            "Digite o nome do produto: calça\n",
            "Digite o tamanho do produto: g\n",
            "Digite a cor do produto: azul\n",
            "Digite o preço do produto: 15\n",
            "Digite a quantidade disponível do produto: 11\n",
            "Digite o nome do produto: meia\n",
            "Digite o tamanho do produto: p\n",
            "Digite a cor do produto: rosa\n",
            "Digite o preço do produto: 2\n",
            "Digite a quantidade disponível do produto: 16\n",
            "Digite o nome do produto: \n"
          ]
        }
      ]
    },
    {
      "cell_type": "code",
      "source": [
        "estoque"
      ],
      "metadata": {
        "colab": {
          "base_uri": "https://localhost:8080/"
        },
        "id": "07RqIYi-AsJh",
        "outputId": "85f3bda1-5268-47ab-f74a-5d7588d6dbcc"
      },
      "execution_count": 63,
      "outputs": [
        {
          "output_type": "execute_result",
          "data": {
            "text/plain": [
              "[{'Nome_produto': 'camiseta',\n",
              "  'Tamanho': 'm',\n",
              "  'Cor': 'preto',\n",
              "  'Preço': 10.0,\n",
              "  'Quantidade': 2},\n",
              " {'Nome_produto': 'calça',\n",
              "  'Tamanho': 'g',\n",
              "  'Cor': 'azul',\n",
              "  'Preço': 15.0,\n",
              "  'Quantidade': 11},\n",
              " {'Nome_produto': 'meia',\n",
              "  'Tamanho': 'p',\n",
              "  'Cor': 'rosa',\n",
              "  'Preço': 2.0,\n",
              "  'Quantidade': 16}]"
            ]
          },
          "metadata": {},
          "execution_count": 63
        }
      ]
    },
    {
      "cell_type": "code",
      "source": [
        "for item in estoque:\n",
        "    nova_pagina.append_row([item['Nome_produto'], item['Tamanho'], item['Cor'], item['Preço'], item['Quantidade']])\n"
      ],
      "metadata": {
        "id": "offXKTr-As7l"
      },
      "execution_count": 80,
      "outputs": []
    },
    {
      "cell_type": "code",
      "source": [
        "x = 20\n",
        "y = 20\n",
        "\n",
        "nova_pagina_vendidos = nova_planilha.add_worksheet(title='Produtos vendidos', rows = x, cols = y)"
      ],
      "metadata": {
        "id": "wI6IQNraA3K9"
      },
      "execution_count": 81,
      "outputs": []
    },
    {
      "cell_type": "code",
      "source": [
        "Carrinho = []\n",
        "total = 0\n",
        "while True:\n",
        "  q=0\n",
        "  produto = {}\n",
        "  it = input(\"Digite o nome do produto\")\n",
        "\n",
        "  if it == \"\":\n",
        "    break\n",
        "  for d in estoque:\n",
        "    if it == d[\"Nome_produto\"]:\n",
        "      produto[\"Nome_produto\"] = d[\"Nome_produto\"]\n",
        "      print(\"Quantidade disponivel:\", d[\"Quantidade\"])\n",
        "      q = int(input(\"Qual a quantidade?\"))\n",
        "      produto[\"Quantidade\"] = q\n",
        "      produto[\"Tamanho\"] = d[\"Tamanho\"]\n",
        "      produto[\"Cor\"] = d[\"Cor\"]\n",
        "      produto[\"Valor Total\"] = d[\"Preço\"]*q\n",
        "      total += produto[\"Valor Total\"]\n",
        "\n",
        "  if q == 0:\n",
        "    print(\"produto não encontrado\")\n",
        "\n",
        "  Carrinho.append(produto)"
      ],
      "metadata": {
        "colab": {
          "base_uri": "https://localhost:8080/"
        },
        "id": "2vtiDRl6Dr3H",
        "outputId": "f5130a13-d964-4853-d40f-4aeb97393173"
      },
      "execution_count": 90,
      "outputs": [
        {
          "name": "stdout",
          "output_type": "stream",
          "text": [
            "Digite o nome do produtocamiseta\n",
            "Quantidade disponivel: 2\n",
            "Qual a quantidade?1\n",
            "Digite o nome do produtomeia\n",
            "Quantidade disponivel: 16\n",
            "Qual a quantidade?4\n",
            "Digite o nome do produto\n"
          ]
        }
      ]
    },
    {
      "cell_type": "code",
      "source": [
        "print(Carrinho)\n",
        "print(\"Formas de pagamento: pix e dinheiro\")\n",
        "pagamento = int(input(\"Digite 1 para pagar com pix e 2 para dinheiro\"))\n",
        "if pagamento == 1:\n",
        "  print(\"Chave pix: 4745748484494994\")\n",
        "else:\n",
        "  valor_recebido = float(input(\"DIGITE O VALOR RECEBIDO \"))\n",
        "  troco = valor_recebido - total\n",
        "  if troco != 0:\n",
        "    print(\"Troco: %.2f\"%troco)"
      ],
      "metadata": {
        "colab": {
          "base_uri": "https://localhost:8080/"
        },
        "id": "8jt9cQRIEk1z",
        "outputId": "536ceb79-08c7-45af-dbe0-667799cda6f7"
      },
      "execution_count": 91,
      "outputs": [
        {
          "output_type": "stream",
          "name": "stdout",
          "text": [
            "[{'Nome_produto': 'camiseta', 'Quantidade': 1, 'Tamanho': 'm', 'Cor': 'preto', 'Valor Total': 10.0}, {'Nome_produto': 'meia', 'Quantidade': 4, 'Tamanho': 'p', 'Cor': 'rosa', 'Valor Total': 8.0}]\n",
            "Formas de pagamento: pix e dinheiro\n",
            "Digite 1 para pagar com pix e 2 para dinheiro1\n",
            "Chave pix: 4745748484494994\n"
          ]
        }
      ]
    },
    {
      "cell_type": "code",
      "source": [
        "for item in Carrinho:\n",
        "    nova_pagina_vendidos.append_row([item['Nome_produto'], item['Tamanho'], item['Cor'], item['Valor Total'], item['Quantidade']])"
      ],
      "metadata": {
        "id": "FIXEeq2ZFPxW"
      },
      "execution_count": 93,
      "outputs": []
    },
    {
      "cell_type": "code",
      "source": [
        "todos_valores_estoque = nova_pagina.get_all_values()\n",
        "todos_valores_estoque"
      ],
      "metadata": {
        "colab": {
          "base_uri": "https://localhost:8080/"
        },
        "id": "Z3fKh_QFFaMu",
        "outputId": "b838ac02-07f7-4030-eab9-b2d3354665d7"
      },
      "execution_count": 107,
      "outputs": [
        {
          "output_type": "execute_result",
          "data": {
            "text/plain": [
              "[['camiseta', 'm', 'preto', '10', '2'],\n",
              " ['calça', 'g', 'azul', '15', '11'],\n",
              " ['meia', 'p', 'rosa', '2', '16']]"
            ]
          },
          "metadata": {},
          "execution_count": 107
        }
      ]
    },
    {
      "cell_type": "code",
      "source": [
        "todos_valores_vendidos = nova_pagina_vendidos.get_all_values()\n",
        "todos_valores_vendidos"
      ],
      "metadata": {
        "colab": {
          "base_uri": "https://localhost:8080/"
        },
        "id": "YuIeq5ehHYBY",
        "outputId": "09944e5b-609f-44f3-cc4a-027f106d2841"
      },
      "execution_count": 108,
      "outputs": [
        {
          "output_type": "execute_result",
          "data": {
            "text/plain": [
              "[['camiseta', 'm', 'preto', '10', '1'], ['meia', 'p', 'rosa', '8', '4']]"
            ]
          },
          "metadata": {},
          "execution_count": 108
        }
      ]
    },
    {
      "cell_type": "code",
      "source": [],
      "metadata": {
        "id": "UFq-IDBxKAsa"
      },
      "execution_count": null,
      "outputs": []
    }
  ]
}