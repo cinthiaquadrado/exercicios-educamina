{
  "nbformat": 4,
  "nbformat_minor": 0,
  "metadata": {
    "colab": {
      "provenance": []
    },
    "kernelspec": {
      "name": "python3",
      "display_name": "Python 3"
    },
    "language_info": {
      "name": "python"
    }
  },
  "cells": [
    {
      "cell_type": "code",
      "execution_count": null,
      "metadata": {
        "colab": {
          "base_uri": "https://localhost:8080/"
        },
        "id": "U_nV14qxQfEb",
        "outputId": "d0cd01bc-8625-4809-f5c4-23c15dd82eb0"
      },
      "outputs": [
        {
          "name": "stdout",
          "output_type": "stream",
          "text": [
            "Digite o nome do produto: \n"
          ]
        }
      ],
      "source": [
        "#Parte 1 do desafio\n",
        "\n",
        "while True:\n",
        "  Nome_produto = input('Digite o nome do produto: ')\n",
        "  if Nome_produto == '':\n",
        "    break\n",
        "  Tamanho = input('Digite o tamanho do produto: ')\n",
        "  Cor = input('Digite a cor do produto: ')\n",
        "  Preço = float(input('Digite o preço do produto: '))\n",
        "  Quantidade = int(input('Digite a quantidade disponível do produto: '))\n",
        "\n"
      ]
    },
    {
      "cell_type": "code",
      "source": [
        "#Parte 2\n",
        "\n",
        "estoque = []\n",
        "\n",
        "while True:\n",
        "  info_produto = []\n",
        "\n",
        "  Nome_produto = input('Digite o nome do produto: ')\n",
        "  if Nome_produto == '':\n",
        "    break\n",
        "  Tamanho = input('Digite o tamanho do produto: ')\n",
        "  Cor = input('Digite a cor do produto: ')\n",
        "  Preço = float(input('Digite o preço do produto: '))\n",
        "  Quantidade = int(input('Digite a quantidade disponível do produto: '))\n",
        "\n",
        "  info_produto.append(Nome_produto)\n",
        "  info_produto.append(Tamanho)\n",
        "  info_produto.append(Cor)\n",
        "  info_produto.append(Preço)\n",
        "  info_produto.append(Quantidade)\n",
        "  estoque.append(info_produto)"
      ],
      "metadata": {
        "colab": {
          "base_uri": "https://localhost:8080/"
        },
        "id": "22PYL-jiRiCL",
        "outputId": "64242ffe-cec4-4f99-ae15-a02017f76965"
      },
      "execution_count": null,
      "outputs": [
        {
          "name": "stdout",
          "output_type": "stream",
          "text": [
            "Digite o nome do produto: camiseta\n",
            "Digite o tamanho do produto: m\n",
            "Digite a cor do produto: preta\n",
            "Digite o preço do produto: 10\n",
            "Digite a quantidade disponível do produto: 10\n",
            "Digite o nome do produto: \n"
          ]
        }
      ]
    },
    {
      "cell_type": "code",
      "source": [
        "#Parte 3\n",
        "\n",
        "print('Produtos no estoque: ', len(estoque))\n",
        "print('\\nProdutos disponíveis: \\n')\n",
        "print('Produto:   Tamanho:   Cor:   Valor:    Quantidade:   ')\n",
        "\n",
        "for i in estoque:\n",
        "  print('{:<17} {:<12} {:<12} {:<15} {:<10}'. format(i[0], i[1], i[2], i[3], i[4]))"
      ],
      "metadata": {
        "id": "zXt7eHKHS866"
      },
      "execution_count": null,
      "outputs": []
    }
  ]
}