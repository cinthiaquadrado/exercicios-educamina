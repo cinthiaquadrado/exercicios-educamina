{
  "nbformat": 4,
  "nbformat_minor": 0,
  "metadata": {
    "colab": {
      "provenance": []
    },
    "kernelspec": {
      "name": "python3",
      "display_name": "Python 3"
    },
    "language_info": {
      "name": "python"
    }
  },
  "cells": [
    {
      "cell_type": "code",
      "execution_count": 1,
      "metadata": {
        "colab": {
          "base_uri": "https://localhost:8080/"
        },
        "id": "I0ikSA7VGz21",
        "outputId": "8b066a0c-1d68-4b4a-f581-496943a117b5"
      },
      "outputs": [
        {
          "name": "stdout",
          "output_type": "stream",
          "text": [
            "Qual o produto que você está procurando? arroz\n",
            "Preço:  18\n",
            "Qual o produto que você está procurando? fim\n"
          ]
        }
      ],
      "source": [
        "tabela = {'arroz': 18,\n",
        "          'feijão': 7.99,\n",
        "          'alface': 1.98,\n",
        "          'batata': 4.59,\n",
        "          'macarrão': 2.99}\n",
        "\n",
        "while True:\n",
        "  produto_desejado = input('Qual o produto que você está procurando? ')\n",
        "  if produto_desejado == 'fim':\n",
        "    break\n",
        "  if produto_desejado in tabela:\n",
        "    print('Preço: ', tabela[produto_desejado])\n",
        "  else:\n",
        "    print('Produto não encontrado!')\n"
      ]
    },
    {
      "cell_type": "code",
      "source": [
        "pessoa = {}\n",
        "print(pessoa)"
      ],
      "metadata": {
        "colab": {
          "base_uri": "https://localhost:8080/"
        },
        "id": "oeKzPnhLO0vD",
        "outputId": "4593be84-bb45-4f5b-8ad1-c7c9ee4f3bac"
      },
      "execution_count": 2,
      "outputs": [
        {
          "output_type": "stream",
          "name": "stdout",
          "text": [
            "{}\n"
          ]
        }
      ]
    },
    {
      "cell_type": "code",
      "source": [
        "pessoa['nome'] = 'Alice'\n",
        "pessoa['idade'] = 26\n",
        "print(pessoa)"
      ],
      "metadata": {
        "colab": {
          "base_uri": "https://localhost:8080/"
        },
        "id": "JUtp4VsBO43p",
        "outputId": "a9fd0422-2167-46d3-ff58-d55174f9ed49"
      },
      "execution_count": 3,
      "outputs": [
        {
          "output_type": "stream",
          "name": "stdout",
          "text": [
            "{'nome': 'Alice', 'idade': 26}\n"
          ]
        }
      ]
    },
    {
      "cell_type": "code",
      "source": [
        "pessoa['cidade'] = 'São Paulo'\n",
        "print(pessoa)"
      ],
      "metadata": {
        "colab": {
          "base_uri": "https://localhost:8080/"
        },
        "id": "Hx_O392_O-qB",
        "outputId": "90e3876a-4719-40ea-d730-03b2d40dd7ad"
      },
      "execution_count": 4,
      "outputs": [
        {
          "output_type": "stream",
          "name": "stdout",
          "text": [
            "{'nome': 'Alice', 'idade': 26, 'cidade': 'São Paulo'}\n"
          ]
        }
      ]
    },
    {
      "cell_type": "code",
      "source": [
        "pessoa['idade'] = 25\n",
        "print(pessoa)"
      ],
      "metadata": {
        "colab": {
          "base_uri": "https://localhost:8080/"
        },
        "id": "D2H3s78RPHpJ",
        "outputId": "d7b1b745-efef-420d-d8b3-751f9ec35439"
      },
      "execution_count": 5,
      "outputs": [
        {
          "output_type": "stream",
          "name": "stdout",
          "text": [
            "{'nome': 'Alice', 'idade': 25, 'cidade': 'São Paulo'}\n"
          ]
        }
      ]
    },
    {
      "cell_type": "code",
      "source": [
        "#del pessoa['cidade']\n",
        "print(pessoa.keys())\n",
        "print(pessoa.values())\n",
        "print(pessoa.items())"
      ],
      "metadata": {
        "colab": {
          "base_uri": "https://localhost:8080/"
        },
        "id": "8SjNC79EcCmm",
        "outputId": "f5f819d2-a2df-43c4-be58-924b8c6b82e1"
      },
      "execution_count": 8,
      "outputs": [
        {
          "output_type": "stream",
          "name": "stdout",
          "text": [
            "dict_keys(['nome', 'idade', 'cidade'])\n",
            "dict_values(['Alice', 25, 'São Paulo'])\n",
            "dict_items([('nome', 'Alice'), ('idade', 25), ('cidade', 'São Paulo')])\n"
          ]
        }
      ]
    },
    {
      "cell_type": "code",
      "source": [
        "#Atividade: Recebe o nome do livro e retorna o gênero do livro\n",
        "\n",
        "#Criar o dicionário\n",
        "#Utilizar pelo menos dois comandos de dicionários e insira/atualize/exclua novas chaves antes de imprimir os nomes dos livros\n",
        "#Receber o nome do livro e retornar o gênero\n",
        "#Quando receber encerrar, deve mandar mensagem\n",
        "\n",
        "livros = {'Senhor dos Aneis': 'Ficção de aventura',\n",
        "                     'Harry Potter': 'Ficção',\n",
        "                     'Bridget Jones': 'Comédia'}\n",
        "\n",
        "del livros['Bridget Jones']\n",
        "\n",
        "livros['O Exorcista'] = 'Terror'\n",
        "livros['Barbie'] = 'Comédia'\n",
        "\n",
        "del livros['Barbie']\n",
        "livros.keys()\n",
        "livros\n",
        "\n",
        "while True:\n",
        "  livro_desejado = input('Qual livro você deseja procurar? ')\n",
        "  if livro_desejado == 'encerrar' or livro_desejado == 'Encerrar':\n",
        "    print('Agradecemos a preferência, volte sempre!')\n",
        "    break\n",
        "  if livro_desejado in livros:\n",
        "    print(livros[livro_desejado])\n",
        "  else:\n",
        "    print('Livro não encontrado')\n"
      ],
      "metadata": {
        "colab": {
          "base_uri": "https://localhost:8080/"
        },
        "id": "PxViZ0H1cq7G",
        "outputId": "3359931b-26e8-4d7a-f9c6-5183cfea69f9"
      },
      "execution_count": 9,
      "outputs": [
        {
          "output_type": "stream",
          "name": "stdout",
          "text": [
            "Qual livro você deseja procurar? barbie\n",
            "Livro não encontrado\n",
            "Qual livro você deseja procurar? Harry Potter\n",
            "Ficção\n",
            "Qual livro você deseja procurar? \n",
            "Livro não encontrado\n",
            "Qual livro você deseja procurar? encerrar\n",
            "Agradecemos a preferência, volte sempre!\n"
          ]
        }
      ]
    },
    {
      "cell_type": "code",
      "source": [
        "estoque = []\n",
        "\n",
        "while True:\n",
        "\n",
        "  Nome_produto = input('Digite o nome do produto: ')\n",
        "  if Nome_produto == '':\n",
        "    break\n",
        "  Tamanho = input('Digite o tamanho do produto: ')\n",
        "  Cor = input('Digite a cor do produto: ')\n",
        "  Preço = float(input('Digite o preço do produto: '))\n",
        "  Quantidade = int(input('Digite a quantidade disponível do produto: '))\n",
        "\n",
        "  info_produto = {'Nome_produto': Nome_produto,\n",
        "               'Tamanho': Tamanho,\n",
        "               'Cor': Cor,\n",
        "               'Preço': Preço,\n",
        "               'Quantidade': Quantidade}\n",
        "\n",
        "  #Outra forma de info_produto\n",
        "  # info_produto[\"Nome\"] = Nome_produto\n",
        "  # info_produto[\"Tamanho\"] = Tamanho\n",
        "  # info_produto[\"Cor\"] = Cor\n",
        "  # info_produto[\"Preço] = Preço\n",
        "  # info_produto[\"Quantidade\"] = Quantidade\n",
        "  estoque.append(info_produto)\n"
      ],
      "metadata": {
        "colab": {
          "base_uri": "https://localhost:8080/"
        },
        "id": "PhtZLhICPPBI",
        "outputId": "18c088b9-10f4-4a78-f273-b8a4f6edb8d7"
      },
      "execution_count": 10,
      "outputs": [
        {
          "name": "stdout",
          "output_type": "stream",
          "text": [
            "Digite o nome do produto: camiseta\n",
            "Digite o tamanho do produto: m\n",
            "Digite a cor do produto: preto\n",
            "Digite o preço do produto: 10\n",
            "Digite a quantidade disponível do produto: 2\n",
            "Digite o nome do produto: calça\n",
            "Digite o tamanho do produto: g\n",
            "Digite a cor do produto: azul\n",
            "Digite o preço do produto: 23\n",
            "Digite a quantidade disponível do produto: 10\n",
            "Digite o nome do produto: meia\n",
            "Digite o tamanho do produto: p\n",
            "Digite a cor do produto: verde\n",
            "Digite o preço do produto: 2\n",
            "Digite a quantidade disponível do produto: 4\n",
            "Digite o nome do produto: \n"
          ]
        }
      ]
    },
    {
      "cell_type": "code",
      "source": [
        "estoque"
      ],
      "metadata": {
        "colab": {
          "base_uri": "https://localhost:8080/"
        },
        "id": "uQl_vLM_la7h",
        "outputId": "be0a2523-7c73-4111-9e27-0de6adcc8abd"
      },
      "execution_count": 11,
      "outputs": [
        {
          "output_type": "execute_result",
          "data": {
            "text/plain": [
              "[{'Nome_produto': 'camiseta',\n",
              "  'Tamanho': 'm',\n",
              "  'Cor': 'preto',\n",
              "  'Preço': 10.0,\n",
              "  'Quantidade': 2},\n",
              " {'Nome_produto': 'calça',\n",
              "  'Tamanho': 'g',\n",
              "  'Cor': 'azul',\n",
              "  'Preço': 23.0,\n",
              "  'Quantidade': 10},\n",
              " {'Nome_produto': 'meia',\n",
              "  'Tamanho': 'p',\n",
              "  'Cor': 'verde',\n",
              "  'Preço': 2.0,\n",
              "  'Quantidade': 4}]"
            ]
          },
          "metadata": {},
          "execution_count": 11
        }
      ]
    },
    {
      "cell_type": "code",
      "source": [
        "#Desafio Dia 2\n",
        "\n",
        "#Coletar o nome do produto\n",
        "#Verificar se ele está no nosso estoque\n",
        "#Caso esteja, adicionar no nosso carrinho\n",
        "  #a. Nome\n",
        "  #b. Quantidade a ser vendida\n",
        "  #c. Valor total a ser recebido\n",
        "\n",
        "#Imprimir todos os produtos no carrinho e o valor total da compra, junto com as\n",
        "#formas de pagamento e o valor de troco a ser devolvido, caso necessário\n",
        "\n",
        "Carrinho = []\n",
        "total = 0\n",
        "while True:\n",
        "  q=0\n",
        "  produto = {}\n",
        "  it = input(\"Digite o nome do produto\")\n",
        "\n",
        "  if it == \"\":\n",
        "    break\n",
        "  for d in estoque:\n",
        "    if it == d[\"Nome_produto\"]:\n",
        "      produto[\"Nome_produto\"] = d[\"Nome_produto\"]\n",
        "      print(\"Quantidade disponivel:\", d[\"Quantidade\"])\n",
        "      q = int(input(\"Qual a quantidade?\"))\n",
        "      produto[\"Quantidade\"] = q\n",
        "      produto[\"Valor Total\"] = d[\"Preço\"]*q\n",
        "      total += produto[\"Valor Total\"]\n",
        "\n",
        "  if q == 0:\n",
        "    print(\"produto não encontrado\")\n",
        "\n",
        "  Carrinho.append(produto)\n",
        "\n"
      ],
      "metadata": {
        "colab": {
          "base_uri": "https://localhost:8080/"
        },
        "id": "MjvOESeJkZed",
        "outputId": "69f39588-7c46-4866-cc45-7ad04f4e29ff"
      },
      "execution_count": 13,
      "outputs": [
        {
          "name": "stdout",
          "output_type": "stream",
          "text": [
            "Digite o nome do produtocamiseta\n",
            "Quantidade disponivel: 2\n",
            "Qual a quantidade?1\n",
            "Digite o nome do produto\n"
          ]
        }
      ]
    },
    {
      "cell_type": "code",
      "source": [
        "print(Carrinho)\n",
        "print(\"Formas de pagamento: pix e dinheiro\")\n",
        "pagamento = int(input(\"Digite 1 para pagar com pix e 2 para dinheiro\"))\n",
        "if pagamento == 1:\n",
        "  print(\"Chave pix: 4745748484494994\")\n",
        "else:\n",
        "  valor_recebido = float(input(\"DIGITE O VALOR RECEBIDO \"))\n",
        "  troco = valor_recebido - total\n",
        "  if troco != 0:\n",
        "    print(\"Troco: %.2f\"%troco)"
      ],
      "metadata": {
        "colab": {
          "base_uri": "https://localhost:8080/"
        },
        "id": "C9XE78546NxE",
        "outputId": "5c1a4c0f-7ab8-4467-a010-0f8449cf7375"
      },
      "execution_count": 14,
      "outputs": [
        {
          "name": "stdout",
          "output_type": "stream",
          "text": [
            "[{'Nome_produto': 'camiseta', 'Quantidade': 1, 'Valor Total': 10.0}]\n",
            "Formas de pagamento: pix e dinheiro\n",
            "Digite 1 para pagar com pix e 2 para dinheiro2\n",
            "DIGITE O VALOR RECEBIDO 10\n"
          ]
        }
      ]
    },
    {
      "cell_type": "markdown",
      "source": [
        "Explicação monitora"
      ],
      "metadata": {
        "id": "Nqg_KAes-wLS"
      }
    },
    {
      "cell_type": "code",
      "source": [
        "for p in estoque:\n",
        "  print(p)"
      ],
      "metadata": {
        "colab": {
          "base_uri": "https://localhost:8080/"
        },
        "id": "YSbsLURv6uFA",
        "outputId": "fb1afb53-7d49-40f6-cab1-0bc6f5e24a53"
      },
      "execution_count": 15,
      "outputs": [
        {
          "output_type": "stream",
          "name": "stdout",
          "text": [
            "{'Nome_produto': 'camiseta', 'Tamanho': 'm', 'Cor': 'preto', 'Preço': 10.0, 'Quantidade': 2}\n",
            "{'Nome_produto': 'calça', 'Tamanho': 'g', 'Cor': 'azul', 'Preço': 23.0, 'Quantidade': 10}\n",
            "{'Nome_produto': 'meia', 'Tamanho': 'p', 'Cor': 'verde', 'Preço': 2.0, 'Quantidade': 4}\n"
          ]
        }
      ]
    },
    {
      "cell_type": "code",
      "source": [
        "produto = 'calça'\n",
        "\n",
        "for p in estoque:\n",
        "  if produto == p['Nome_produto']:\n",
        "    print(p)"
      ],
      "metadata": {
        "colab": {
          "base_uri": "https://localhost:8080/"
        },
        "id": "iP3j1eBM97YL",
        "outputId": "8715f736-f0b1-41a4-e483-f2ef5a43a5e2"
      },
      "execution_count": 16,
      "outputs": [
        {
          "output_type": "stream",
          "name": "stdout",
          "text": [
            "{'Nome_produto': 'calça', 'Tamanho': 'g', 'Cor': 'azul', 'Preço': 23.0, 'Quantidade': 10}\n"
          ]
        }
      ]
    },
    {
      "cell_type": "code",
      "source": [
        "#Atividade desafio\n",
        "\n",
        "#Utilizar dicionário com dicionário e comando .items() para resolver o problema\n",
        "\n",
        "black_friday = {\n",
        "    'cinthia' : {\n",
        "        'mouse': 2,\n",
        "        'caderneta': 5,\n",
        "        'caneta': 10\n",
        "    },\n",
        "    'nath': {\n",
        "        'mouse': 1,\n",
        "        'caderneta': 3,\n",
        "        'caneta': 15\n",
        "    }\n",
        "}\n",
        "\n",
        "# for item, item2 in black_friday.items():\n",
        "#   print(item, item2)\n",
        "\n",
        "black_friday.items()\n",
        "\n",
        "for item in black_friday:\n",
        "  print(item)\n",
        "  print(f\"Mouse: {black_friday[item]['mouse']}, Caderneta: {black_friday[item]['caderneta']}, Caneta: {black_friday[item]['caneta']}\")\n"
      ],
      "metadata": {
        "colab": {
          "base_uri": "https://localhost:8080/"
        },
        "id": "CTkBGgZZUzCj",
        "outputId": "77d0f3b5-e328-4876-a233-9361c3cb027e"
      },
      "execution_count": 17,
      "outputs": [
        {
          "output_type": "stream",
          "name": "stdout",
          "text": [
            "cinthia\n",
            "Mouse: 2, Caderneta: 5, Caneta: 10\n",
            "nath\n",
            "Mouse: 1, Caderneta: 3, Caneta: 15\n"
          ]
        }
      ]
    },
    {
      "cell_type": "code",
      "source": [
        "for item in black_friday:\n",
        "  print(item)\n"
      ],
      "metadata": {
        "colab": {
          "base_uri": "https://localhost:8080/"
        },
        "id": "WxAZl_1wWq80",
        "outputId": "f501ff1b-1139-4fd6-a0a6-e9e985e5e42c"
      },
      "execution_count": 18,
      "outputs": [
        {
          "output_type": "stream",
          "name": "stdout",
          "text": [
            "cinthia\n",
            "nath\n"
          ]
        }
      ]
    }
  ]
}